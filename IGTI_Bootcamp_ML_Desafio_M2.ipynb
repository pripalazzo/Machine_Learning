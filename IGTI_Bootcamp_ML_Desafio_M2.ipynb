{
  "cells": [
    {
      "cell_type": "markdown",
      "metadata": {
        "id": "view-in-github",
        "colab_type": "text"
      },
      "source": [
        "<a href=\"https://colab.research.google.com/github/pripalazzo/Iniciacao_Machine_Learning/blob/main/IGTI_Bootcamp_ML_Desafio_M2.ipynb\" target=\"_parent\"><img src=\"https://colab.research.google.com/assets/colab-badge.svg\" alt=\"Open In Colab\"/></a>"
      ]
    },
    {
      "cell_type": "code",
      "execution_count": 4,
      "id": "c2a57ed8",
      "metadata": {
        "id": "c2a57ed8"
      },
      "outputs": [],
      "source": [
        "import pandas as pd\n",
        "import numpy as np\n",
        "import matplotlib.pyplot as plt\n",
        "import seaborn as sns"
      ]
    },
    {
      "cell_type": "code",
      "execution_count": 5,
      "id": "d02e35dd",
      "metadata": {
        "id": "d02e35dd"
      },
      "outputs": [],
      "source": [
        "# Importando o dataset 'Banknote Authentication'\n",
        "\n",
        "df = pd.read_csv('https://pycourse.s3.amazonaws.com/banknote_authentication.txt', \n",
        "                 header = None, \n",
        "                 names = ['variance', 'skewness', 'curtosis', 'entropy', 'class'])"
      ]
    },
    {
      "cell_type": "code",
      "execution_count": 6,
      "id": "46cf7d33",
      "metadata": {
        "id": "46cf7d33",
        "outputId": "467e5cf1-6fda-4c01-cd8e-31f3de036705",
        "colab": {
          "base_uri": "https://localhost:8080/",
          "height": 206
        }
      },
      "outputs": [
        {
          "output_type": "execute_result",
          "data": {
            "text/plain": [
              "   variance  skewness  curtosis  entropy  class\n",
              "0   3.62160    8.6661   -2.8073 -0.44699      0\n",
              "1   4.54590    8.1674   -2.4586 -1.46210      0\n",
              "2   3.86600   -2.6383    1.9242  0.10645      0\n",
              "3   3.45660    9.5228   -4.0112 -3.59440      0\n",
              "4   0.32924   -4.4552    4.5718 -0.98880      0"
            ],
            "text/html": [
              "\n",
              "  <div id=\"df-46610d27-80f4-427b-82cc-20695e83280c\">\n",
              "    <div class=\"colab-df-container\">\n",
              "      <div>\n",
              "<style scoped>\n",
              "    .dataframe tbody tr th:only-of-type {\n",
              "        vertical-align: middle;\n",
              "    }\n",
              "\n",
              "    .dataframe tbody tr th {\n",
              "        vertical-align: top;\n",
              "    }\n",
              "\n",
              "    .dataframe thead th {\n",
              "        text-align: right;\n",
              "    }\n",
              "</style>\n",
              "<table border=\"1\" class=\"dataframe\">\n",
              "  <thead>\n",
              "    <tr style=\"text-align: right;\">\n",
              "      <th></th>\n",
              "      <th>variance</th>\n",
              "      <th>skewness</th>\n",
              "      <th>curtosis</th>\n",
              "      <th>entropy</th>\n",
              "      <th>class</th>\n",
              "    </tr>\n",
              "  </thead>\n",
              "  <tbody>\n",
              "    <tr>\n",
              "      <th>0</th>\n",
              "      <td>3.62160</td>\n",
              "      <td>8.6661</td>\n",
              "      <td>-2.8073</td>\n",
              "      <td>-0.44699</td>\n",
              "      <td>0</td>\n",
              "    </tr>\n",
              "    <tr>\n",
              "      <th>1</th>\n",
              "      <td>4.54590</td>\n",
              "      <td>8.1674</td>\n",
              "      <td>-2.4586</td>\n",
              "      <td>-1.46210</td>\n",
              "      <td>0</td>\n",
              "    </tr>\n",
              "    <tr>\n",
              "      <th>2</th>\n",
              "      <td>3.86600</td>\n",
              "      <td>-2.6383</td>\n",
              "      <td>1.9242</td>\n",
              "      <td>0.10645</td>\n",
              "      <td>0</td>\n",
              "    </tr>\n",
              "    <tr>\n",
              "      <th>3</th>\n",
              "      <td>3.45660</td>\n",
              "      <td>9.5228</td>\n",
              "      <td>-4.0112</td>\n",
              "      <td>-3.59440</td>\n",
              "      <td>0</td>\n",
              "    </tr>\n",
              "    <tr>\n",
              "      <th>4</th>\n",
              "      <td>0.32924</td>\n",
              "      <td>-4.4552</td>\n",
              "      <td>4.5718</td>\n",
              "      <td>-0.98880</td>\n",
              "      <td>0</td>\n",
              "    </tr>\n",
              "  </tbody>\n",
              "</table>\n",
              "</div>\n",
              "      <button class=\"colab-df-convert\" onclick=\"convertToInteractive('df-46610d27-80f4-427b-82cc-20695e83280c')\"\n",
              "              title=\"Convert this dataframe to an interactive table.\"\n",
              "              style=\"display:none;\">\n",
              "        \n",
              "  <svg xmlns=\"http://www.w3.org/2000/svg\" height=\"24px\"viewBox=\"0 0 24 24\"\n",
              "       width=\"24px\">\n",
              "    <path d=\"M0 0h24v24H0V0z\" fill=\"none\"/>\n",
              "    <path d=\"M18.56 5.44l.94 2.06.94-2.06 2.06-.94-2.06-.94-.94-2.06-.94 2.06-2.06.94zm-11 1L8.5 8.5l.94-2.06 2.06-.94-2.06-.94L8.5 2.5l-.94 2.06-2.06.94zm10 10l.94 2.06.94-2.06 2.06-.94-2.06-.94-.94-2.06-.94 2.06-2.06.94z\"/><path d=\"M17.41 7.96l-1.37-1.37c-.4-.4-.92-.59-1.43-.59-.52 0-1.04.2-1.43.59L10.3 9.45l-7.72 7.72c-.78.78-.78 2.05 0 2.83L4 21.41c.39.39.9.59 1.41.59.51 0 1.02-.2 1.41-.59l7.78-7.78 2.81-2.81c.8-.78.8-2.07 0-2.86zM5.41 20L4 18.59l7.72-7.72 1.47 1.35L5.41 20z\"/>\n",
              "  </svg>\n",
              "      </button>\n",
              "      \n",
              "  <style>\n",
              "    .colab-df-container {\n",
              "      display:flex;\n",
              "      flex-wrap:wrap;\n",
              "      gap: 12px;\n",
              "    }\n",
              "\n",
              "    .colab-df-convert {\n",
              "      background-color: #E8F0FE;\n",
              "      border: none;\n",
              "      border-radius: 50%;\n",
              "      cursor: pointer;\n",
              "      display: none;\n",
              "      fill: #1967D2;\n",
              "      height: 32px;\n",
              "      padding: 0 0 0 0;\n",
              "      width: 32px;\n",
              "    }\n",
              "\n",
              "    .colab-df-convert:hover {\n",
              "      background-color: #E2EBFA;\n",
              "      box-shadow: 0px 1px 2px rgba(60, 64, 67, 0.3), 0px 1px 3px 1px rgba(60, 64, 67, 0.15);\n",
              "      fill: #174EA6;\n",
              "    }\n",
              "\n",
              "    [theme=dark] .colab-df-convert {\n",
              "      background-color: #3B4455;\n",
              "      fill: #D2E3FC;\n",
              "    }\n",
              "\n",
              "    [theme=dark] .colab-df-convert:hover {\n",
              "      background-color: #434B5C;\n",
              "      box-shadow: 0px 1px 3px 1px rgba(0, 0, 0, 0.15);\n",
              "      filter: drop-shadow(0px 1px 2px rgba(0, 0, 0, 0.3));\n",
              "      fill: #FFFFFF;\n",
              "    }\n",
              "  </style>\n",
              "\n",
              "      <script>\n",
              "        const buttonEl =\n",
              "          document.querySelector('#df-46610d27-80f4-427b-82cc-20695e83280c button.colab-df-convert');\n",
              "        buttonEl.style.display =\n",
              "          google.colab.kernel.accessAllowed ? 'block' : 'none';\n",
              "\n",
              "        async function convertToInteractive(key) {\n",
              "          const element = document.querySelector('#df-46610d27-80f4-427b-82cc-20695e83280c');\n",
              "          const dataTable =\n",
              "            await google.colab.kernel.invokeFunction('convertToInteractive',\n",
              "                                                     [key], {});\n",
              "          if (!dataTable) return;\n",
              "\n",
              "          const docLinkHtml = 'Like what you see? Visit the ' +\n",
              "            '<a target=\"_blank\" href=https://colab.research.google.com/notebooks/data_table.ipynb>data table notebook</a>'\n",
              "            + ' to learn more about interactive tables.';\n",
              "          element.innerHTML = '';\n",
              "          dataTable['output_type'] = 'display_data';\n",
              "          await google.colab.output.renderOutput(dataTable, element);\n",
              "          const docLink = document.createElement('div');\n",
              "          docLink.innerHTML = docLinkHtml;\n",
              "          element.appendChild(docLink);\n",
              "        }\n",
              "      </script>\n",
              "    </div>\n",
              "  </div>\n",
              "  "
            ]
          },
          "metadata": {},
          "execution_count": 6
        }
      ],
      "source": [
        "df.head()"
      ]
    },
    {
      "cell_type": "code",
      "execution_count": 7,
      "id": "35354ba9",
      "metadata": {
        "id": "35354ba9",
        "outputId": "6374c529-f15c-431c-9fa1-5139b07783df",
        "colab": {
          "base_uri": "https://localhost:8080/"
        }
      },
      "outputs": [
        {
          "output_type": "stream",
          "name": "stdout",
          "text": [
            "<class 'pandas.core.frame.DataFrame'>\n",
            "RangeIndex: 1372 entries, 0 to 1371\n",
            "Data columns (total 5 columns):\n",
            " #   Column    Non-Null Count  Dtype  \n",
            "---  ------    --------------  -----  \n",
            " 0   variance  1372 non-null   float64\n",
            " 1   skewness  1372 non-null   float64\n",
            " 2   curtosis  1372 non-null   float64\n",
            " 3   entropy   1372 non-null   float64\n",
            " 4   class     1372 non-null   int64  \n",
            "dtypes: float64(4), int64(1)\n",
            "memory usage: 53.7 KB\n"
          ]
        }
      ],
      "source": [
        "df.info()"
      ]
    },
    {
      "cell_type": "code",
      "execution_count": 8,
      "id": "46fa52e0",
      "metadata": {
        "id": "46fa52e0",
        "outputId": "d4da7752-1af1-4b5a-8e76-c22876873eb4",
        "colab": {
          "base_uri": "https://localhost:8080/"
        }
      },
      "outputs": [
        {
          "output_type": "execute_result",
          "data": {
            "text/plain": [
              "(1372, 5)"
            ]
          },
          "metadata": {},
          "execution_count": 8
        }
      ],
      "source": [
        "# Questão 1: Qual o tamanho desse dataset (número de linhas, número de colunas)? \n",
        "df.shape"
      ]
    },
    {
      "cell_type": "code",
      "execution_count": 9,
      "id": "745eaf01",
      "metadata": {
        "id": "745eaf01",
        "outputId": "51ad3000-ca89-4ec5-f8a4-3042a1ce3829",
        "colab": {
          "base_uri": "https://localhost:8080/",
          "height": 300
        }
      },
      "outputs": [
        {
          "output_type": "execute_result",
          "data": {
            "text/plain": [
              "          variance     skewness     curtosis      entropy        class\n",
              "count  1372.000000  1372.000000  1372.000000  1372.000000  1372.000000\n",
              "mean      0.433735     1.922353     1.397627    -1.191657     0.444606\n",
              "std       2.842763     5.869047     4.310030     2.101013     0.497103\n",
              "min      -7.042100   -13.773100    -5.286100    -8.548200     0.000000\n",
              "25%      -1.773000    -1.708200    -1.574975    -2.413450     0.000000\n",
              "50%       0.496180     2.319650     0.616630    -0.586650     0.000000\n",
              "75%       2.821475     6.814625     3.179250     0.394810     1.000000\n",
              "max       6.824800    12.951600    17.927400     2.449500     1.000000"
            ],
            "text/html": [
              "\n",
              "  <div id=\"df-ad6fb003-559a-4ee7-9aa9-380cba649f05\">\n",
              "    <div class=\"colab-df-container\">\n",
              "      <div>\n",
              "<style scoped>\n",
              "    .dataframe tbody tr th:only-of-type {\n",
              "        vertical-align: middle;\n",
              "    }\n",
              "\n",
              "    .dataframe tbody tr th {\n",
              "        vertical-align: top;\n",
              "    }\n",
              "\n",
              "    .dataframe thead th {\n",
              "        text-align: right;\n",
              "    }\n",
              "</style>\n",
              "<table border=\"1\" class=\"dataframe\">\n",
              "  <thead>\n",
              "    <tr style=\"text-align: right;\">\n",
              "      <th></th>\n",
              "      <th>variance</th>\n",
              "      <th>skewness</th>\n",
              "      <th>curtosis</th>\n",
              "      <th>entropy</th>\n",
              "      <th>class</th>\n",
              "    </tr>\n",
              "  </thead>\n",
              "  <tbody>\n",
              "    <tr>\n",
              "      <th>count</th>\n",
              "      <td>1372.000000</td>\n",
              "      <td>1372.000000</td>\n",
              "      <td>1372.000000</td>\n",
              "      <td>1372.000000</td>\n",
              "      <td>1372.000000</td>\n",
              "    </tr>\n",
              "    <tr>\n",
              "      <th>mean</th>\n",
              "      <td>0.433735</td>\n",
              "      <td>1.922353</td>\n",
              "      <td>1.397627</td>\n",
              "      <td>-1.191657</td>\n",
              "      <td>0.444606</td>\n",
              "    </tr>\n",
              "    <tr>\n",
              "      <th>std</th>\n",
              "      <td>2.842763</td>\n",
              "      <td>5.869047</td>\n",
              "      <td>4.310030</td>\n",
              "      <td>2.101013</td>\n",
              "      <td>0.497103</td>\n",
              "    </tr>\n",
              "    <tr>\n",
              "      <th>min</th>\n",
              "      <td>-7.042100</td>\n",
              "      <td>-13.773100</td>\n",
              "      <td>-5.286100</td>\n",
              "      <td>-8.548200</td>\n",
              "      <td>0.000000</td>\n",
              "    </tr>\n",
              "    <tr>\n",
              "      <th>25%</th>\n",
              "      <td>-1.773000</td>\n",
              "      <td>-1.708200</td>\n",
              "      <td>-1.574975</td>\n",
              "      <td>-2.413450</td>\n",
              "      <td>0.000000</td>\n",
              "    </tr>\n",
              "    <tr>\n",
              "      <th>50%</th>\n",
              "      <td>0.496180</td>\n",
              "      <td>2.319650</td>\n",
              "      <td>0.616630</td>\n",
              "      <td>-0.586650</td>\n",
              "      <td>0.000000</td>\n",
              "    </tr>\n",
              "    <tr>\n",
              "      <th>75%</th>\n",
              "      <td>2.821475</td>\n",
              "      <td>6.814625</td>\n",
              "      <td>3.179250</td>\n",
              "      <td>0.394810</td>\n",
              "      <td>1.000000</td>\n",
              "    </tr>\n",
              "    <tr>\n",
              "      <th>max</th>\n",
              "      <td>6.824800</td>\n",
              "      <td>12.951600</td>\n",
              "      <td>17.927400</td>\n",
              "      <td>2.449500</td>\n",
              "      <td>1.000000</td>\n",
              "    </tr>\n",
              "  </tbody>\n",
              "</table>\n",
              "</div>\n",
              "      <button class=\"colab-df-convert\" onclick=\"convertToInteractive('df-ad6fb003-559a-4ee7-9aa9-380cba649f05')\"\n",
              "              title=\"Convert this dataframe to an interactive table.\"\n",
              "              style=\"display:none;\">\n",
              "        \n",
              "  <svg xmlns=\"http://www.w3.org/2000/svg\" height=\"24px\"viewBox=\"0 0 24 24\"\n",
              "       width=\"24px\">\n",
              "    <path d=\"M0 0h24v24H0V0z\" fill=\"none\"/>\n",
              "    <path d=\"M18.56 5.44l.94 2.06.94-2.06 2.06-.94-2.06-.94-.94-2.06-.94 2.06-2.06.94zm-11 1L8.5 8.5l.94-2.06 2.06-.94-2.06-.94L8.5 2.5l-.94 2.06-2.06.94zm10 10l.94 2.06.94-2.06 2.06-.94-2.06-.94-.94-2.06-.94 2.06-2.06.94z\"/><path d=\"M17.41 7.96l-1.37-1.37c-.4-.4-.92-.59-1.43-.59-.52 0-1.04.2-1.43.59L10.3 9.45l-7.72 7.72c-.78.78-.78 2.05 0 2.83L4 21.41c.39.39.9.59 1.41.59.51 0 1.02-.2 1.41-.59l7.78-7.78 2.81-2.81c.8-.78.8-2.07 0-2.86zM5.41 20L4 18.59l7.72-7.72 1.47 1.35L5.41 20z\"/>\n",
              "  </svg>\n",
              "      </button>\n",
              "      \n",
              "  <style>\n",
              "    .colab-df-container {\n",
              "      display:flex;\n",
              "      flex-wrap:wrap;\n",
              "      gap: 12px;\n",
              "    }\n",
              "\n",
              "    .colab-df-convert {\n",
              "      background-color: #E8F0FE;\n",
              "      border: none;\n",
              "      border-radius: 50%;\n",
              "      cursor: pointer;\n",
              "      display: none;\n",
              "      fill: #1967D2;\n",
              "      height: 32px;\n",
              "      padding: 0 0 0 0;\n",
              "      width: 32px;\n",
              "    }\n",
              "\n",
              "    .colab-df-convert:hover {\n",
              "      background-color: #E2EBFA;\n",
              "      box-shadow: 0px 1px 2px rgba(60, 64, 67, 0.3), 0px 1px 3px 1px rgba(60, 64, 67, 0.15);\n",
              "      fill: #174EA6;\n",
              "    }\n",
              "\n",
              "    [theme=dark] .colab-df-convert {\n",
              "      background-color: #3B4455;\n",
              "      fill: #D2E3FC;\n",
              "    }\n",
              "\n",
              "    [theme=dark] .colab-df-convert:hover {\n",
              "      background-color: #434B5C;\n",
              "      box-shadow: 0px 1px 3px 1px rgba(0, 0, 0, 0.15);\n",
              "      filter: drop-shadow(0px 1px 2px rgba(0, 0, 0, 0.3));\n",
              "      fill: #FFFFFF;\n",
              "    }\n",
              "  </style>\n",
              "\n",
              "      <script>\n",
              "        const buttonEl =\n",
              "          document.querySelector('#df-ad6fb003-559a-4ee7-9aa9-380cba649f05 button.colab-df-convert');\n",
              "        buttonEl.style.display =\n",
              "          google.colab.kernel.accessAllowed ? 'block' : 'none';\n",
              "\n",
              "        async function convertToInteractive(key) {\n",
              "          const element = document.querySelector('#df-ad6fb003-559a-4ee7-9aa9-380cba649f05');\n",
              "          const dataTable =\n",
              "            await google.colab.kernel.invokeFunction('convertToInteractive',\n",
              "                                                     [key], {});\n",
              "          if (!dataTable) return;\n",
              "\n",
              "          const docLinkHtml = 'Like what you see? Visit the ' +\n",
              "            '<a target=\"_blank\" href=https://colab.research.google.com/notebooks/data_table.ipynb>data table notebook</a>'\n",
              "            + ' to learn more about interactive tables.';\n",
              "          element.innerHTML = '';\n",
              "          dataTable['output_type'] = 'display_data';\n",
              "          await google.colab.output.renderOutput(dataTable, element);\n",
              "          const docLink = document.createElement('div');\n",
              "          docLink.innerHTML = docLinkHtml;\n",
              "          element.appendChild(docLink);\n",
              "        }\n",
              "      </script>\n",
              "    </div>\n",
              "  </div>\n",
              "  "
            ]
          },
          "metadata": {},
          "execution_count": 9
        }
      ],
      "source": [
        "# Questão 2: Qual variável possui o maior range (diferença entre valor máximo e mínimo)? \n",
        "# Questão 3: Qual a média da coluna skewness? \n",
        "# Questão 4: Qual a médida da coluna entropy?\n",
        "# Questão 5: Qual a mediana da coluna variance?\n",
        "# Questão 6: Qual o desvio padrão da coluna curtosis?\n",
        "\n",
        "df.describe()"
      ]
    },
    {
      "cell_type": "code",
      "execution_count": 10,
      "id": "7cb38274",
      "metadata": {
        "id": "7cb38274",
        "outputId": "b6826287-a31c-4562-b66c-6a6cfaf4bd4f",
        "colab": {
          "base_uri": "https://localhost:8080/"
        }
      },
      "outputs": [
        {
          "output_type": "stream",
          "name": "stdout",
          "text": [
            "O range da variável variance é de 13.8669.\n",
            "O range da variável skewness é de 26.7247.\n",
            "O range da variável curtosis é de 23.2135.\n",
            "O o range da variável entropy é de 10.9977.\n"
          ]
        }
      ],
      "source": [
        "dif_variance = df['variance'].max() - df['variance'].min()\n",
        "dif_skewness = df['skewness'].max() - df['skewness'].min()\n",
        "dif_curtosis = df['curtosis'].max() - df['curtosis'].min()\n",
        "dif_entropy = df['entropy'].max() - df['entropy'].min()\n",
        "\n",
        "print('O range da variável variance é de {}.'.format(dif_variance))\n",
        "print('O range da variável skewness é de {}.'.format(dif_skewness))\n",
        "print('O range da variável curtosis é de {}.'.format(dif_curtosis))\n",
        "print('O o range da variável entropy é de {}.'.format(dif_entropy))\n"
      ]
    },
    {
      "cell_type": "code",
      "execution_count": 11,
      "id": "71551b42",
      "metadata": {
        "id": "71551b42",
        "outputId": "3f11969f-08c9-4718-9c46-43836e539f77",
        "colab": {
          "base_uri": "https://localhost:8080/"
        }
      },
      "outputs": [
        {
          "output_type": "stream",
          "name": "stdout",
          "text": [
            "A percentagem de exemplos de cédulas falsas é de 44.46.\n"
          ]
        }
      ],
      "source": [
        "# Questão 7: Qual a porcentagem de exemplos do dataset que são cédulas falsas (class = 1)?\n",
        "\n",
        "# Filtra as linhas que foram classificadas como falsas\n",
        "count_false = df[(df['class'] == 1)].count()['class']\n",
        "\n",
        "# Calcula o percentual\n",
        "percent_false = (count_false * 100) / len(df.index)\n",
        "\n",
        "print('A percentagem de exemplos de cédulas falsas é de {:.2f}.'.format(percent_false))\n",
        "\n"
      ]
    },
    {
      "cell_type": "code",
      "execution_count": 12,
      "id": "f856327c",
      "metadata": {
        "id": "f856327c",
        "outputId": "d0419057-7134-4fd3-aa72-4bf57fa75eb6",
        "colab": {
          "base_uri": "https://localhost:8080/"
        }
      },
      "outputs": [
        {
          "output_type": "stream",
          "name": "stdout",
          "text": [
            "-0.7868952243065794\n"
          ]
        }
      ],
      "source": [
        "# Questão 8: Qual o valor da correlação de Pearson entre as variáveis skewness e curtosis? \n",
        "corr = df['skewness'].corr(df['curtosis'])\n",
        "print(corr)\n"
      ]
    },
    {
      "cell_type": "code",
      "execution_count": 13,
      "id": "108db4a6",
      "metadata": {
        "id": "108db4a6",
        "outputId": "2e1dc1ee-fc94-42bb-8b17-8abff6b87fba",
        "colab": {
          "base_uri": "https://localhost:8080/",
          "height": 279
        }
      },
      "outputs": [
        {
          "output_type": "display_data",
          "data": {
            "text/plain": [
              "<Figure size 432x288 with 1 Axes>"
            ],
            "image/png": "[encoded data removed]"
          },
          "metadata": {
            "needs_background": "light"
          }
        }
      ],
      "source": [
        "# Realiza o plot da correlação\n",
        "sns.regplot(x = df['skewness'], y = df['curtosis']);"
      ]
    },
    {
      "cell_type": "code",
      "execution_count": 14,
      "id": "883a7716",
      "metadata": {
        "id": "883a7716",
        "outputId": "c0118b81-7d4c-4e46-e676-19054fdff5a4",
        "colab": {
          "base_uri": "https://localhost:8080/",
          "height": 505
        }
      },
      "outputs": [
        {
          "output_type": "execute_result",
          "data": {
            "text/plain": [
              "<matplotlib.axes._subplots.AxesSubplot at 0x7fae5d6d1dd0>"
            ]
          },
          "metadata": {},
          "execution_count": 14
        },
        {
          "output_type": "display_data",
          "data": {
            "text/plain": [
              "<Figure size 576x576 with 2 Axes>"
            ],
            "image/png": "[encoded data removed]"
          },
          "metadata": {
            "needs_background": "light"
          }
        }
      ],
      "source": [
        "# Plotando um heatmap para avaliar a correlação entre as variáveis\n",
        "\n",
        "# Calcula a correlação entre as colunas do dataframe\n",
        "corr_df = df.corr()\n",
        "\n",
        "plt.figure(figsize = (8, 8))\n",
        "sns.heatmap(corr_df, cmap = 'Blues', annot = True, fmt = '.2f') \n"
      ]
    },
    {
      "cell_type": "code",
      "execution_count": 15,
      "id": "6d2cdc85",
      "metadata": {
        "id": "6d2cdc85",
        "outputId": "47623819-6c20-4585-e8e0-b2da1822868a",
        "colab": {
          "base_uri": "https://localhost:8080/"
        }
      },
      "outputs": [
        {
          "output_type": "execute_result",
          "data": {
            "text/plain": [
              "Index(['variance', 'skewness', 'curtosis', 'entropy', 'class'], dtype='object')"
            ]
          },
          "metadata": {},
          "execution_count": 15
        }
      ],
      "source": [
        "df.columns"
      ]
    },
    {
      "cell_type": "code",
      "execution_count": 16,
      "id": "41a0ad12",
      "metadata": {
        "id": "41a0ad12"
      },
      "outputs": [],
      "source": [
        "# Preparando os dados para aplicação dos algoritmos\n",
        "\n",
        "features = df[['variance', 'skewness', 'curtosis', 'entropy']]\n",
        "target = df['class']\n",
        "\n",
        "# Indicando os dados de entrada e os target\n",
        "X = features  # dados de entrada\n",
        "y = target  # target  \n",
        "\n",
        "# função que realiza a divisão do dataset\n",
        "from sklearn.model_selection import train_test_split  \n",
        "\n",
        "# divide 30% para teste\n",
        "X_train, X_test, y_train, y_test = train_test_split(X, y, test_size=0.30, random_state = 1)"
      ]
    },
    {
      "cell_type": "code",
      "execution_count": 17,
      "id": "e4367f52",
      "metadata": {
        "id": "e4367f52",
        "outputId": "ee32ab86-0df1-4392-a37c-a4c2c2eeafdb",
        "colab": {
          "base_uri": "https://localhost:8080/"
        }
      },
      "outputs": [
        {
          "output_type": "execute_result",
          "data": {
            "text/plain": [
              "KNeighborsClassifier()"
            ]
          },
          "metadata": {},
          "execution_count": 17
        }
      ],
      "source": [
        "# KNN\n",
        "\n",
        "from sklearn.neighbors import KNeighborsClassifier\n",
        "from sklearn.metrics import accuracy_score\n",
        "\n",
        "#treina o modelo \n",
        "clf_KNN = KNeighborsClassifier(n_neighbors = 5) #utiliza a construção por meio de 5 vizinhos\n",
        "clf_KNN.fit(X_train, y_train) # aplica a classificação"
      ]
    },
    {
      "cell_type": "code",
      "execution_count": 18,
      "id": "3126371f",
      "metadata": {
        "id": "3126371f"
      },
      "outputs": [],
      "source": [
        "#realiza a previsão\n",
        "y_pred = clf_KNN.predict(X_test)"
      ]
    },
    {
      "cell_type": "code",
      "execution_count": 19,
      "id": "9e42716b",
      "metadata": {
        "id": "9e42716b",
        "outputId": "6a6a8581-c0fb-4f86-ebd5-b56aaffba503",
        "colab": {
          "base_uri": "https://localhost:8080/"
        }
      },
      "outputs": [
        {
          "output_type": "stream",
          "name": "stdout",
          "text": [
            "0.9975728155339806\n"
          ]
        }
      ],
      "source": [
        "# Questão 9: Qual a acurácia do KNN no conjunto de teste?\n",
        "\n",
        "knn_accuracy = accuracy_score(y_test, y_pred)\n",
        "print(knn_accuracy)"
      ]
    },
    {
      "cell_type": "code",
      "execution_count": 20,
      "id": "dbde16be",
      "metadata": {
        "id": "dbde16be"
      },
      "outputs": [],
      "source": [
        "# Árvore de decisão (Decision Tree Classifier)\n",
        "\n",
        "from sklearn.tree import DecisionTreeClassifier # importa o classificador árvore de decisão\n",
        "\n",
        "# Cria o objeto de classificação através do \n",
        "clf_arvore = DecisionTreeClassifier(random_state=1)\n",
        "\n",
        "# Realiza o treinamento do classificador\n",
        "clf_arvore = clf_arvore.fit(X_train,y_train)\n",
        "\n",
        "#Realiza a previsão de classificaçao \n",
        "y_pred = clf_arvore.predict(X_test)"
      ]
    },
    {
      "cell_type": "code",
      "execution_count": 21,
      "id": "8374b8cf",
      "metadata": {
        "id": "8374b8cf",
        "outputId": "57ede8a8-88a5-460d-cdfc-6afc55421ae1",
        "colab": {
          "base_uri": "https://localhost:8080/"
        }
      },
      "outputs": [
        {
          "output_type": "stream",
          "name": "stdout",
          "text": [
            "0.9878640776699029\n"
          ]
        }
      ],
      "source": [
        "# Questão 10: Qual a acurácia da Árvore de Decisão no conjunto de teste? \n",
        "\n",
        "clf_accuracy = accuracy_score(y_test, y_pred)\n",
        "print(clf_accuracy)"
      ]
    },
    {
      "cell_type": "code",
      "execution_count": 22,
      "id": "7a8edc96",
      "metadata": {
        "id": "7a8edc96"
      },
      "outputs": [],
      "source": [
        "# Random Forest\n",
        "from sklearn.ensemble import RandomForestClassifier # importa o classificador árvore de decisão\n",
        "\n",
        "# Cria o objeto de classificação através do \n",
        "clf_floresta = RandomForestClassifier(max_depth = 8, random_state = 1)\n",
        "\n",
        "# Realiza o treinamento do classificador\n",
        "clf_floresta = clf_floresta.fit(X_train,y_train)\n",
        "\n",
        "#Realiza a previsão de classificaçao \n",
        "y_pred = clf_floresta.predict(X_test)"
      ]
    },
    {
      "cell_type": "code",
      "execution_count": 23,
      "id": "be56c15e",
      "metadata": {
        "id": "be56c15e",
        "outputId": "cd458999-7e2e-4f03-e25d-e5c13e66349c",
        "colab": {
          "base_uri": "https://localhost:8080/"
        }
      },
      "outputs": [
        {
          "output_type": "stream",
          "name": "stdout",
          "text": [
            "0.9951456310679612\n"
          ]
        }
      ],
      "source": [
        "# Questão 11: Qual a acurácia do Random Forest no conjunyo de teste?\n",
        "\n",
        "rfc_accuracy = accuracy_score(y_test, y_pred)\n",
        "print(rfc_accuracy)"
      ]
    },
    {
      "cell_type": "code",
      "execution_count": 24,
      "id": "cfb3bc6b",
      "metadata": {
        "id": "cfb3bc6b",
        "outputId": "226cd2fb-0dc5-4078-ac96-4adff89458a3",
        "colab": {
          "base_uri": "https://localhost:8080/"
        }
      },
      "outputs": [
        {
          "output_type": "stream",
          "name": "stdout",
          "text": [
            "Index(['variance', 'skewness', 'curtosis', 'entropy'], dtype='object')\n"
          ]
        },
        {
          "output_type": "execute_result",
          "data": {
            "text/plain": [
              "array([0.56066718, 0.24058589, 0.14022782, 0.05851911])"
            ]
          },
          "metadata": {},
          "execution_count": 24
        }
      ],
      "source": [
        "# Questão 12: Analisando o valor da importância relativa das features do Random Forest (atributo feature_importances_), \n",
        "# qual feature melhor contribuiu para a predição de class? \n",
        "features_name = features.columns\n",
        "\n",
        "# Indice de features\n",
        "print(features_name)\n",
        "\n",
        "# Valores de features importance\n",
        "clf_floresta.feature_importances_"
      ]
    },
    {
      "cell_type": "code",
      "execution_count": 25,
      "id": "f6705635",
      "metadata": {
        "id": "f6705635",
        "outputId": "8f2811af-b56c-4a77-982c-822836ee1641",
        "colab": {
          "base_uri": "https://localhost:8080/",
          "height": 283
        }
      },
      "outputs": [
        {
          "output_type": "execute_result",
          "data": {
            "text/plain": [
              "<BarContainer object of 4 artists>"
            ]
          },
          "metadata": {},
          "execution_count": 25
        },
        {
          "output_type": "display_data",
          "data": {
            "text/plain": [
              "<Figure size 432x288 with 1 Axes>"
            ],
            "image/png": "[encoded data removed]"
          },
          "metadata": {
            "needs_background": "light"
          }
        }
      ],
      "source": [
        "# Plotando o valor de importância das features\n",
        "\n",
        "plt.barh(features_name, clf_floresta.feature_importances_)"
      ]
    },
    {
      "cell_type": "code",
      "execution_count": 26,
      "id": "7a336bef",
      "metadata": {
        "id": "7a336bef"
      },
      "outputs": [],
      "source": [
        "# SVM \n",
        "from sklearn.svm import SVC\n",
        "\n",
        "#cria o objeto SVM\n",
        "clf_svm = SVC(gamma = 'auto',kernel = 'rbf', random_state = 1)\n",
        "\n",
        "#realiza a classificação via SVM\n",
        "clf_svm.fit(X_train,y_train)\n",
        "\n",
        "#Realiza a previsão de classificaçao \n",
        "y_pred = clf_svm.predict(X_test)"
      ]
    },
    {
      "cell_type": "code",
      "execution_count": 27,
      "id": "216ce703",
      "metadata": {
        "id": "216ce703",
        "outputId": "b756a28a-45fb-49ce-92f8-ba3b2320f786",
        "colab": {
          "base_uri": "https://localhost:8080/"
        }
      },
      "outputs": [
        {
          "output_type": "stream",
          "name": "stdout",
          "text": [
            "1.0\n"
          ]
        }
      ],
      "source": [
        "# Questão 14: Qual a acurácia do SVM no conjunyo de teste?\n",
        "\n",
        "svm_accuracy = accuracy_score(y_test, y_pred)\n",
        "print(svm_accuracy)"
      ]
    },
    {
      "cell_type": "code",
      "execution_count": 28,
      "id": "bbf14eab",
      "metadata": {
        "id": "bbf14eab"
      },
      "outputs": [],
      "source": [
        "# MLP\n",
        "from sklearn.neural_network import MLPClassifier\n",
        "\n",
        "#define a configuração da rede\n",
        "\n",
        "clf_mlp = MLPClassifier(hidden_layer_sizes = (2, ), solver = 'lbfgs', random_state=1) \n",
        "\n",
        "#realiza o fit do modelo\n",
        "clf_mlp.fit(X_train,y_train)\n",
        "\n",
        "#realiza a previsão\n",
        "y_pred = clf_mlp.predict(X_test)"
      ]
    },
    {
      "cell_type": "code",
      "execution_count": 29,
      "id": "ea33a8d3",
      "metadata": {
        "id": "ea33a8d3",
        "outputId": "28b6e87e-05c2-4bda-e81e-85a0f3520c34",
        "colab": {
          "base_uri": "https://localhost:8080/"
        }
      },
      "outputs": [
        {
          "output_type": "stream",
          "name": "stdout",
          "text": [
            "1.0\n"
          ]
        }
      ],
      "source": [
        "# Questão 15: Qual a acurácia do MLP no conjunyo de teste?\n",
        "\n",
        "mlp_accuracy = accuracy_score(y_test, y_pred)\n",
        "print(mlp_accuracy)"
      ]
    }
  ],
  "metadata": {
    "kernelspec": {
      "display_name": "Python 3",
      "language": "python",
      "name": "python3"
    },
    "language_info": {
      "codemirror_mode": {
        "name": "ipython",
        "version": 3
      },
      "file_extension": ".py",
      "mimetype": "text/x-python",
      "name": "python",
      "nbconvert_exporter": "python",
      "pygments_lexer": "ipython3",
      "version": "3.8.8"
    },
    "colab": {
      "name": "IGTI - Bootcamp_ML_Desafio_M2.ipynb",
      "provenance": [],
      "include_colab_link": true
    }
  },
  "nbformat": 4,
  "nbformat_minor": 5
}